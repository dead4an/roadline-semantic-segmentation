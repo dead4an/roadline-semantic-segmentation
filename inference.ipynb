{
 "cells": [
  {
   "cell_type": "code",
   "execution_count": 1,
   "metadata": {},
   "outputs": [],
   "source": [
    "import os\n",
    "\n",
    "import torch\n",
    "import torch.nn as nn\n",
    "import torch.optim as optim\n",
    "import torch.nn.functional as F\n",
    "from torch.utils.data import DataLoader\n",
    "\n",
    "import segmentation_models_pytorch as smp\n",
    "\n",
    "import numpy as np\n",
    "import cv2\n",
    "import matplotlib.pyplot as plt\n",
    "\n",
    "from safetensors.torch import load_file\n",
    "from tqdm import tqdm\n",
    "from utils import RoadlineTrainDataset"
   ]
  },
  {
   "cell_type": "code",
   "execution_count": 2,
   "metadata": {},
   "outputs": [],
   "source": [
    "# Paths\n",
    "ROOT = os.getcwd()\n",
    "DATA_DIR = os.path.join(ROOT, 'data')\n",
    "TEST_DIR = os.path.join(DATA_DIR, 'test')\n",
    "CHECKPOINT_PATH =  os.path.join(ROOT, 'checkpoints', 'unet_segment.safetensors')\n",
    "\n",
    "# Torch settings\n",
    "DEVICE = torch.device('cuda' if torch.cuda.is_available() else 'cpu')"
   ]
  },
  {
   "cell_type": "code",
   "execution_count": null,
   "metadata": {},
   "outputs": [],
   "source": [
    "# Model\n",
    "model = smp.Unet(\n",
    "    encoder_name='resnet50',\n",
    "    encoder_weights='imagenet',\n",
    "    in_channels=3,\n",
    "    classes=1\n",
    ").to(DEVICE)\n",
    "\n",
    "model_state_dict = load_file(CHECKPOINT_PATH)\n",
    "model.load_state_dict(model_state_dict)"
   ]
  },
  {
   "cell_type": "code",
   "execution_count": null,
   "metadata": {},
   "outputs": [],
   "source": [
    "ORIG_SHAPE = (1920, 1080)\n",
    "RESIZE_SHAPE = (736, 416)\n",
    "\n",
    "orig_imgs = []\n",
    "imgs = []\n",
    "for filename in os.listdir(TEST_DIR):\n",
    "    img = cv2.imread(os.path.join(TEST_DIR, filename))\n",
    "    img = cv2.cvtColor(img, cv2.COLOR_BGR2RGB)\n",
    "    img_copy = img.copy()\n",
    "\n",
    "    img = cv2.resize(img, ORIG_SHAPE, interpolation=cv2.INTER_CUBIC)   # resize to orig shape\n",
    "    img = cv2.resize(img, RESIZE_SHAPE, interpolation=cv2.INTER_AREA) # resize to model shape\n",
    "    img = img.astype(np.float32)\n",
    "    img /= 255.0\n",
    "\n",
    "    img = torch.tensor(img, dtype=torch.float32)\n",
    "    img = torch.permute(img, (2, 0, 1))\n",
    "\n",
    "    orig_imgs.append(img_copy)\n",
    "    imgs.append(img.to(DEVICE))"
   ]
  },
  {
   "cell_type": "code",
   "execution_count": null,
   "metadata": {},
   "outputs": [],
   "source": [
    "masks = []\n",
    "with torch.no_grad():\n",
    "    for img in imgs:\n",
    "        mask = model(img.unsqueeze(0)).squeeze(0, 1)\n",
    "        mask = F.sigmoid(mask)\n",
    "        # mask = (mask > 0.15) # uncomment for binary view\n",
    "        masks.append(mask.cpu())"
   ]
  },
  {
   "cell_type": "code",
   "execution_count": null,
   "metadata": {},
   "outputs": [],
   "source": [
    "fig, axs = plt.subplots(nrows=10, ncols=2, figsize=(15, 50))\n",
    "for i in range(len(axs)):\n",
    "    axs[i][0].imshow(orig_imgs[i])\n",
    "    axs[i][0].set_title(i)\n",
    "    axs[i][0]\n",
    "\n",
    "    axs[i][1].imshow(masks[i], cmap='cubehelix')\n",
    "    axs[i][1].set_title(i)\n",
    "\n",
    "plt.show()"
   ]
  }
 ],
 "metadata": {
  "kernelspec": {
   "display_name": ".venv",
   "language": "python",
   "name": "python3"
  },
  "language_info": {
   "codemirror_mode": {
    "name": "ipython",
    "version": 3
   },
   "file_extension": ".py",
   "mimetype": "text/x-python",
   "name": "python",
   "nbconvert_exporter": "python",
   "pygments_lexer": "ipython3",
   "version": "3.11.10"
  }
 },
 "nbformat": 4,
 "nbformat_minor": 2
}
